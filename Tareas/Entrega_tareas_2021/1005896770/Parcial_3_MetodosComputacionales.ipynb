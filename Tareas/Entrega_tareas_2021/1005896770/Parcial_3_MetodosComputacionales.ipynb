{
 "cells": [
  {
   "cell_type": "code",
   "execution_count": 1,
   "metadata": {
    "scrolled": true
   },
   "outputs": [
    {
     "data": {
      "text/plain": [
       "0.0005043243218578309"
      ]
     },
     "execution_count": 1,
     "metadata": {},
     "output_type": "execute_result"
    }
   ],
   "source": [
    "import random\n",
    "import numpy as np\n",
    "\n",
    "#Se toma un número aleatorio como m1\n",
    "\n",
    "m1 = np.random.uniform(10e-9, 10e-4)\n",
    "m1"
   ]
  },
  {
   "cell_type": "markdown",
   "metadata": {},
   "source": [
    "Se despeja la diferencia entre los valores m1, m2 y m3 para sacar los dos últimos.\n",
    "\n",
    "$$\\frac{\\Delta m_{21}}{10^{-5}} = 7.39$$\n",
    "$$\\Delta m_{21}={10^{-5}}\\times7.39$$\n",
    "\n",
    "$$\\frac{\\Delta m_{32}}{10^{-3}} = 2.499$$\n",
    "$$\\Delta m_{21}={10^{-3}}\\times2.499$$"
   ]
  },
  {
   "cell_type": "code",
   "execution_count": 2,
   "metadata": {},
   "outputs": [],
   "source": [
    "Δm21 = np.sqrt(7.39 * 10e-5)\n",
    "Δm32 = np.sqrt(2.449 * 10e-3)\n",
    "m2 = np.sqrt(m1 ** 2 + Δm21 ** 2)\n",
    "m3 = np.sqrt(m2 ** 2 + Δm32 ** 2)"
   ]
  },
  {
   "cell_type": "markdown",
   "metadata": {},
   "source": [
    "Se sacan los $\\alpha_{ij}$ aleatorios y se sacan senos y cosenos con cada uno de ellos. Luego, estos se usan para sacar la matriz R.\n",
    "$$\n",
    "\\boldsymbol{R}=\\left(\\begin{array}{ccc}c^\\alpha_{12} c^\\alpha_{13} & s^\\alpha_{12} c^\\alpha_{13} & s^\\alpha_{13}  \\\\ -s^\\alpha_{12} c^\\alpha_{23}-c^\\alpha_{12} s^\\alpha_{13} s^\\alpha_{23}& c^\\alpha_{12} c^\\alpha_{23}-s^\\alpha_{12} s^\\alpha_{13} s^\\alpha_{23}  & c^\\alpha_{13} s^\\alpha_{23} \\\\ s^\\alpha_{12} s^\\alpha_{23}-c^\\alpha_{12} s^\\alpha_{13} c^\\alpha_{23} & -c^\\alpha_{12} s^\\alpha_{23}-s^\\alpha_{12} s^\\alpha_{13} c^\\alpha_{23}  & c^\\alpha_{13} c^\\alpha_{23}\\end{array}\\right)\n",
    "$$"
   ]
  },
  {
   "cell_type": "code",
   "execution_count": 3,
   "metadata": {},
   "outputs": [],
   "source": [
    "α12 = np.random.uniform(0, 2 * np.pi)\n",
    "α23 = np.random.uniform(0, 2 * np.pi)\n",
    "α13 = np.random.uniform(0, 2 * np.pi)\n",
    "s12_ = np.sin(α12)\n",
    "s23_ = np.sin(α23)\n",
    "s13_ = np.sin(α13)\n",
    "c12_ = np.cos(α12)\n",
    "c23_ = np.cos(α23)\n",
    "c13_ = np.cos(α13)"
   ]
  },
  {
   "cell_type": "code",
   "execution_count": 4,
   "metadata": {
    "scrolled": true
   },
   "outputs": [
    {
     "data": {
      "text/plain": [
       "array([[-0.72508099, -0.39390052, -0.56488931],\n",
       "       [-0.08401029, -0.76354941,  0.64026132],\n",
       "       [-0.68352017,  0.51169783,  0.52054347]])"
      ]
     },
     "execution_count": 4,
     "metadata": {},
     "output_type": "execute_result"
    }
   ],
   "source": [
    "R = np.array([[c12_ * c13_, s12_ * c13_, s13_],\n",
    "             [-s12_ * c23_ - c12_ * s13_ * s23_, c12_ * c23_ - s12_ * s13_ * s23_, c13_ * s23_],\n",
    "             [s12_ * s23_ - c12_ * s13_ * c23_, -c12_ * s23_ - s12_ * s13_ * c23_, c13_ * c23_]])\n",
    "R"
   ]
  },
  {
   "cell_type": "markdown",
   "metadata": {},
   "source": [
    "Se ponen los $\\theta_{ij}$ como lo indica la tabla y estos se pasan a radianes para luego poderles sacar senos y cosenos a cada uno de ellos. Con esto sacamos la matriz U.\n",
    "$$\n",
    "\\boldsymbol{U}=\\left(\\begin{array}{ccc}c_{12} c_{13} & s_{12} c_{13} & s_{13}  \\\\ -s_{12} c_{23}-c_{12} s_{13} s_{23}& c_{12} c_{23}-s_{12} s_{13} s_{23}  & c_{13} s_{23} \\\\ s_{12} s_{23}-c_{12} s_{13} c_{23} & -c_{12} s_{23}-s_{12} s_{13} c_{23}  & c_{13} c_{23}\\end{array}\\right)\n",
    "$$"
   ]
  },
  {
   "cell_type": "code",
   "execution_count": 5,
   "metadata": {},
   "outputs": [],
   "source": [
    "θ12 = np.deg2rad(33.82)\n",
    "θ23 = np.deg2rad(48.3)\n",
    "θ13 = np.deg2rad(8.61)\n",
    "c12 = np.cos(θ12)\n",
    "s12 = np.sin(θ12)\n",
    "c23 = np.cos(θ23)\n",
    "s23 = np.sin(θ23)\n",
    "c13 = np.cos(θ13)\n",
    "s13 = np.sin(θ13)"
   ]
  },
  {
   "cell_type": "code",
   "execution_count": 6,
   "metadata": {
    "scrolled": true
   },
   "outputs": [
    {
     "data": {
      "text/plain": [
       "array([[ 0.82142745,  0.55031308,  0.14970791],\n",
       "       [-0.46312144,  0.49045305,  0.73822377],\n",
       "       [ 0.33282949, -0.67573021,  0.65773339]])"
      ]
     },
     "execution_count": 6,
     "metadata": {},
     "output_type": "execute_result"
    }
   ],
   "source": [
    "U = np.array([[c12 * c13, s12 * c13, s13],\n",
    "             [-s12 * c23 - c12 * s13 * s23, c12 * c23 - s12 * s13 * s23, c13 * s23],\n",
    "             [s12 * s23 - c12 * s13 * c23, -c12 * s23 - s12 * s13 * c23, c13 * c23]])\n",
    "U"
   ]
  },
  {
   "cell_type": "markdown",
   "metadata": {},
   "source": [
    "Se saca la matriz $\\boldsymbol{D}_{\\sqrt{m}}$ al poner la raíz cuadrada de m1, m2 y m3 como una matriz diagonal. Luego se saca la matriz Y.\n",
    "$$\n",
    "\\boldsymbol{Y}=\\boldsymbol{R} \\boldsymbol{D}_{\\sqrt{m}} \\boldsymbol{U}^{\\operatorname{T}}\n",
    "$$"
   ]
  },
  {
   "cell_type": "code",
   "execution_count": 7,
   "metadata": {
    "scrolled": true
   },
   "outputs": [
    {
     "data": {
      "text/plain": [
       "array([[0.00050432, 0.        , 0.        ],\n",
       "       [0.        , 0.02718923, 0.        ],\n",
       "       [0.        , 0.        , 0.15883719]])"
      ]
     },
     "execution_count": 7,
     "metadata": {},
     "output_type": "execute_result"
    }
   ],
   "source": [
    "D = np.diag([(m1), (m2), (m3)])\n",
    "D"
   ]
  },
  {
   "cell_type": "code",
   "execution_count": 8,
   "metadata": {
    "scrolled": false
   },
   "outputs": [
    {
     "data": {
      "text/plain": [
       "array([[0.02245717, 0.        , 0.        ],\n",
       "       [0.        , 0.16489158, 0.        ],\n",
       "       [0.        , 0.        , 0.39854384]])"
      ]
     },
     "execution_count": 8,
     "metadata": {},
     "output_type": "execute_result"
    }
   ],
   "source": [
    "Dsqrt = D ** 0.5\n",
    "Dsqrt"
   ]
  },
  {
   "cell_type": "code",
   "execution_count": 9,
   "metadata": {},
   "outputs": [
    {
     "data": {
      "text/plain": [
       "array([[-0.08282305, -0.19051287, -0.10960787],\n",
       "       [-0.03263443,  0.12749848,  0.25228372],\n",
       "       [ 0.06488194,  0.20164215,  0.07432955]])"
      ]
     },
     "execution_count": 9,
     "metadata": {},
     "output_type": "execute_result"
    }
   ],
   "source": [
    "Y = R.dot(Dsqrt.dot(U.transpose()))\n",
    "Y"
   ]
  },
  {
   "cell_type": "markdown",
   "metadata": {},
   "source": [
    "Se saca la matriz A \n",
    "$$\n",
    "\\boldsymbol{A}=\\boldsymbol{Y}^{\\operatorname{T}}\\boldsymbol{Y}\n",
    "$$\n",
    "y a sus eigenvalores."
   ]
  },
  {
   "cell_type": "code",
   "execution_count": 10,
   "metadata": {},
   "outputs": [
    {
     "data": {
      "text/plain": [
       "array([0.00050432, 0.02718923, 0.15883719])"
      ]
     },
     "execution_count": 10,
     "metadata": {},
     "output_type": "execute_result"
    }
   ],
   "source": [
    "A = Y.transpose().dot(Y)\n",
    "λ, V = np.linalg.eig(A)\n",
    "λ_ = np.sort(λ)\n",
    "λ_"
   ]
  },
  {
   "cell_type": "code",
   "execution_count": 11,
   "metadata": {
    "scrolled": true
   },
   "outputs": [
    {
     "name": "stdout",
     "output_type": "stream",
     "text": [
      "[-5.96311195e-18 -2.08166817e-17  2.77555756e-17]\n"
     ]
    }
   ],
   "source": [
    "#se muestra que los lambda de A restados con los lambda original son, esencialmente, cero,\n",
    "#mostrando que estos coinciden\n",
    "print(λ_-[m1, m2, m3])  \n"
   ]
  },
  {
   "cell_type": "code",
   "execution_count": 12,
   "metadata": {},
   "outputs": [
    {
     "name": "stdout",
     "output_type": "stream",
     "text": [
      "[[-2.08166817e-17]\n",
      " [-1.38777878e-17]\n",
      " [-2.77555756e-17]] \n",
      "\n",
      "[[-3.84891771e-18]\n",
      " [-1.19533290e-17]\n",
      " [-1.71574994e-17]] \n",
      "\n",
      "[[-5.20417043e-18]\n",
      " [-8.67361738e-18]\n",
      " [ 1.04083409e-17]]\n"
     ]
    }
   ],
   "source": [
    "#Se muestra que los eigenvectores son los correctos al usar su definición A*Vi - lambda*Vi = 0\n",
    "\n",
    "V0 = np.c_[ V[:, 0] ]\n",
    "V1 = np.c_[ V[:, 1] ]\n",
    "V2 = np.c_[ V[:, 2] ]\n",
    "print(A.dot(V0) - λ[0]*V0, '\\n')\n",
    "print(A.dot(V1) - λ[1]*V1, '\\n')\n",
    "print(A.dot(V2) - λ[2]*V2)"
   ]
  },
  {
   "cell_type": "code",
   "execution_count": 13,
   "metadata": {},
   "outputs": [
    {
     "data": {
      "text/plain": [
       "array([-0.16853158, -0.02777231,  0.31530888])"
      ]
     },
     "execution_count": 13,
     "metadata": {},
     "output_type": "execute_result"
    }
   ],
   "source": [
    "#Se sacan los eigenvalores de la matriz Y para mostrar que estos coinciden con la raíz cuadrada de los eigenvalores de A\n",
    "λY = np.linalg.eigvals(Y)\n",
    "λY_ = np.sort(λY)\n",
    "λY_"
   ]
  },
  {
   "cell_type": "code",
   "execution_count": 14,
   "metadata": {},
   "outputs": [
    {
     "name": "stdout",
     "output_type": "stream",
     "text": [
      "[0.19098874 0.19266389 0.08323497]\n"
     ]
    }
   ],
   "source": [
    "print(λ_**0.5-λY_)"
   ]
  },
  {
   "cell_type": "markdown",
   "metadata": {},
   "source": [
    "La matriz Y se describe con su diagonalización: $\n",
    "\\boldsymbol{Y}=\\boldsymbol{R} \\boldsymbol{D}_{\\sqrt{m}} \\boldsymbol{U}^{\\operatorname{T}}\n",
    "$, lo que nos indica que la matriz A es $\\boldsymbol{A}=\\boldsymbol{U}\\boldsymbol{D}_{\\sqrt{m}}^{\\operatorname{T}} \\boldsymbol{R}^{\\operatorname{T}} \\boldsymbol{R} \\boldsymbol{D}_{\\sqrt{m}} \\boldsymbol{U}^{\\operatorname{T}}$.\n",
    "\n",
    "Como $\\boldsymbol{R}^{\\operatorname{T}} \\boldsymbol{R} = I$, entonces llegamos a que $\\boldsymbol{A}=\\boldsymbol{U}\\boldsymbol{D}_{\\sqrt{m}}^{\\operatorname{T}}  \\boldsymbol{D}_{\\sqrt{m}} \\boldsymbol{U}^{\\operatorname{T}}$.\n",
    "\n",
    "Que es lo mismo que decir $\\boldsymbol{A}=\\boldsymbol{U}\\boldsymbol{D} \\boldsymbol{U}^{\\operatorname{T}}$, lo cual describe la diagonalización de A, siendo sus eigenvalores la diagonal de la matriz $\\boldsymbol{D}$."
   ]
  },
  {
   "cell_type": "code",
   "execution_count": null,
   "metadata": {},
   "outputs": [],
   "source": []
  }
 ],
 "metadata": {
  "kernelspec": {
   "display_name": "Python 3",
   "language": "python",
   "name": "python3"
  },
  "language_info": {
   "codemirror_mode": {
    "name": "ipython",
    "version": 3
   },
   "file_extension": ".py",
   "mimetype": "text/x-python",
   "name": "python",
   "nbconvert_exporter": "python",
   "pygments_lexer": "ipython3",
   "version": "3.8.3"
  }
 },
 "nbformat": 4,
 "nbformat_minor": 4
}
